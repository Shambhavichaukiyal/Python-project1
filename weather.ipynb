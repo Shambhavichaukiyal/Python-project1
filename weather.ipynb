{
 "cells": [
  {
   "cell_type": "code",
   "execution_count": 10,
   "id": "7d52ee9d",
   "metadata": {},
   "outputs": [
    {
     "name": "stdout",
     "output_type": "stream",
     "text": [
      "Enter the city name:\n",
      "bhopal\n",
      "Searching weather for bhopal weather......\n",
      "\n",
      "Location: Bhopal, Madhya Pradesh\n",
      "Time: Wednesday 3:40 pm\n",
      "Rain\n",
      "Weather: Wednesday 3:40 pm\n",
      "Rain\n",
      "Temperature: Bhopal, Madhya Pradesh\n",
      "It's raining. Carry an umbrella.\n"
     ]
    }
   ],
   "source": [
    "from bs4 import BeautifulSoup\n",
    "import requests\n",
    "\n",
    "headers = {\n",
    "    'User-Agent': 'Mozilla/5.0 (Windows NT 10.0; Win64; x64) AppleWebKit/537.36 (KHTML, like Gecko) Chrome/58.0.3029.110 Safari/537.3'\n",
    "}\n",
    "\n",
    "def weather(city):\n",
    "    city = city.replace(\" \", \"+\")\n",
    "    url = f'https://www.google.com/search?q={city}&oq={city}&aqs=chrome.0.35i39l2j0l4j46j69i60.6128j1j7&sourceid=chrome&ie=UTF-8'\n",
    "    res = requests.get(url, headers=headers)\n",
    "    print(f\"Searching weather for {city.replace('+', ' ')}......\\n\")\n",
    "    soup = BeautifulSoup(res.text, 'html.parser')\n",
    "    \n",
    "    try:\n",
    "        # Extract weather information\n",
    "        location = soup.find('span', class_='BNeawe tAd8D AP7Wnd').text.strip()  # Location\n",
    "        time = soup.find('div', class_='BNeawe tAd8D AP7Wnd').text.strip()       # Time\n",
    "        weather_desc = soup.find('div', class_='BNeawe tAd8D AP7Wnd').text.strip()  # Weather description\n",
    "        temperature = soup.find('span', class_='BNeawe tAd8D AP7Wnd').text.strip()    # Temperature\n",
    "        \n",
    "        # Print weather information\n",
    "        print(f\"Location: {location}\")\n",
    "        print(f\"Time: {time}\")\n",
    "        print(f\"Weather: {weather_desc}\")\n",
    "        print(f\"Temperature: {temperature}\")\n",
    "\n",
    "        # Determine weather condition based on weather description\n",
    "        if 'cloud' in weather_desc.lower():\n",
    "            print(\"It's cloudy.Please carry an umbrella in case\")\n",
    "        elif 'rain' in weather_desc.lower():\n",
    "            print(\"It's raining. Carry an umbrella.\")\n",
    "        elif 'snow' in weather_desc.lower():\n",
    "            print(\"It's snowing. Bundle up and be cautious on the roads.\")\n",
    "        else:\n",
    "            print(\"Weather condition: Unknown\")\n",
    "\n",
    "    except Exception as e:\n",
    "        print(f\"An error occurred: {e}\")\n",
    "\n",
    "print(\"Enter the city name:\")\n",
    "city = input().strip()\n",
    "city = city + \" weather\"\n",
    "weather(city)\n"
   ]
  },
  {
   "cell_type": "code",
   "execution_count": null,
   "id": "a45d347d",
   "metadata": {},
   "outputs": [],
   "source": []
  },
  {
   "cell_type": "code",
   "execution_count": null,
   "id": "778e4062",
   "metadata": {},
   "outputs": [],
   "source": []
  }
 ],
 "metadata": {
  "kernelspec": {
   "display_name": "Python 3 (ipykernel)",
   "language": "python",
   "name": "python3"
  },
  "language_info": {
   "codemirror_mode": {
    "name": "ipython",
    "version": 3
   },
   "file_extension": ".py",
   "mimetype": "text/x-python",
   "name": "python",
   "nbconvert_exporter": "python",
   "pygments_lexer": "ipython3",
   "version": "3.10.0"
  }
 },
 "nbformat": 4,
 "nbformat_minor": 5
}
